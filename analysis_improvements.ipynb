{
 "cells": [
  {
   "cell_type": "code",
   "execution_count": null,
   "id": "0d3b62c5",
   "metadata": {},
   "outputs": [],
   "source": [
    "import pandas as pd\n",
    "import matplotlib.pyplot as plt\n",
    "import seaborn as sns\n",
    "from sklearn.ensemble import RandomForestClassifier\n",
    "from sklearn.model_selection import train_test_split\n",
    "from sklearn.metrics import classification_report, confusion_matrix"
   ]
  },
  {
   "cell_type": "code",
   "execution_count": null,
   "id": "4c7a3ba5",
   "metadata": {},
   "outputs": [],
   "source": [
    "data = pd.read_csv('restaurant_customer_satisfaction.csv')\n",
    "data"
   ]
  },
  {
   "cell_type": "code",
   "execution_count": null,
   "id": "addd5193",
   "metadata": {},
   "outputs": [],
   "source": [
    "print(data.info())\n",
    "print(data.describe())"
   ]
  },
  {
   "cell_type": "code",
   "execution_count": null,
   "id": "0572d2f5",
   "metadata": {},
   "outputs": [],
   "source": [
    "plt.figure(figsize=(12, 8))\n",
    "sns.heatmap(data.corr(), annot=True, cmap='coolwarm')\n",
    "plt.title('Correlation Matrix')\n",
    "plt.show()"
   ]
  },
  {
   "cell_type": "code",
   "execution_count": null,
   "id": "916942cf",
   "metadata": {},
   "outputs": [],
   "source": [
    "X = data.drop(columns=['CustomerID', 'HighSatisfaction'])\n",
    "y = data['HighSatisfaction']\n",
    "X = pd.get_dummies(X, drop_first=True)\n",
    "\n",
    "# training and test sets\n",
    "X_train, X_test, y_train, y_test = train_test_split(X, y, test_size=0.3, random_state=42)\n",
    "\n",
    "# training\n",
    "clf = RandomForestClassifier(n_estimators=100, random_state=42)\n",
    "clf.fit(X_train, y_train)\n",
    "\n",
    "y_pred = clf.predict(X_test)"
   ]
  },
  {
   "cell_type": "code",
   "execution_count": null,
   "id": "f3e897a8",
   "metadata": {},
   "outputs": [],
   "source": [
    "print(classification_report(y_test, y_pred))\n",
    "print(confusion_matrix(y_test, y_pred))"
   ]
  },
  {
   "cell_type": "code",
   "execution_count": null,
   "id": "33e349ff",
   "metadata": {},
   "outputs": [],
   "source": [
    "# feature importance\n",
    "feature_importance = pd.Series(clf.feature_importances_, index=X.columns).sort_values(ascending=False)\n",
    "\n",
    "plt.figure(figsize=(12, 8))\n",
    "sns.barplot(x=feature_importance, y=feature_importance.index)\n",
    "plt.title('Feature Importance')\n",
    "plt.show()"
   ]
  },
  {
   "cell_type": "code",
   "execution_count": null,
   "id": "92bccb77",
   "metadata": {},
   "outputs": [],
   "source": [
    "# average ratings\n",
    "ratings = data[['ServiceRating', 'FoodRating', 'AmbianceRating', 'HighSatisfaction']]\n",
    "avg_ratings = ratings.groupby('HighSatisfaction').mean().reset_index()\n",
    "\n",
    "plt.figure(figsize=(12, 8))\n",
    "sns.barplot(data=avg_ratings, x='HighSatisfaction', y='ServiceRating', label='Service Rating')\n",
    "sns.barplot(data=avg_ratings, x='HighSatisfaction', y='FoodRating', label='Food Rating', alpha=0.6)\n",
    "sns.barplot(data=avg_ratings, x='HighSatisfaction', y='AmbianceRating', label='Ambiance Rating', alpha=0.3)\n",
    "plt.title('Average Ratings by Satisfaction')\n",
    "plt.legend()\n",
    "plt.show()"
   ]
  }
 ],
 "metadata": {
  "kernelspec": {
   "display_name": "Python 3 (ipykernel)",
   "language": "python",
   "name": "python3"
  },
  "language_info": {
   "codemirror_mode": {
    "name": "ipython",
    "version": 3
   },
   "file_extension": ".py",
   "mimetype": "text/x-python",
   "name": "python",
   "nbconvert_exporter": "python",
   "pygments_lexer": "ipython3",
   "version": "3.10.9"
  }
 },
 "nbformat": 4,
 "nbformat_minor": 5
}
